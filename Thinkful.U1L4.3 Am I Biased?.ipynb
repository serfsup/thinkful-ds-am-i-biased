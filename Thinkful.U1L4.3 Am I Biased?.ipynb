{
 "cells": [
  {
   "cell_type": "markdown",
   "metadata": {},
   "source": [
    "<h3>You're testing advertising emails for a bathing suit company and you test one version of the email in February and the other in May.</h3>"
   ]
  },
  {
   "cell_type": "markdown",
   "metadata": {},
   "source": [
    "This study is biased in its assignment to conditions.  The differences in the advertising emails are nullified by the fact that one group received the email in February (when most people are not thinking about swimming in the summer) while the other group received the email in May (when most people <b>are</b> thinking about buying a swimsuit).  It could also be biased depending on the demographic (people in southern California or Florida may have already bought their swimsuits by the time the email went out in May.  This bias could be identified by using an A/A random split."
   ]
  },
  {
   "cell_type": "markdown",
   "metadata": {},
   "source": [
    "<h3>You open a clinic to treat anxiety and find that the people who visit show a higher rate of anxiety than the general population.</h3>"
   ]
  },
  {
   "cell_type": "markdown",
   "metadata": {},
   "source": [
    "This study is guilty of a sampling bias.  People who visit a clinic to treat anxiety are there because they are anxious.  People who are not anxious have no need for a clinic to treat anxiety."
   ]
  },
  {
   "cell_type": "markdown",
   "metadata": {},
   "source": [
    "<h3>You launch a new ad billboard based campaign and see an increase in website visits in the first week.\n",
    "</h3>"
   ]
  },
  {
   "cell_type": "markdown",
   "metadata": {},
   "source": [
    "This study has a contextual bias in that there should be an increase in website visits when an advertising campaign begins.  The campaign needs to take place over a greater period of time, and you would want to know how many hits convert to purchases."
   ]
  },
  {
   "cell_type": "markdown",
   "metadata": {},
   "source": [
    "<h3>You launch a loyalty program but see no change in visits in the first week.</h3>"
   ]
  },
  {
   "cell_type": "markdown",
   "metadata": {},
   "source": [
    "This study also has a contextual bias in that, with the exception of convenience stores, most people do not patronize the same business more than once a week, so the effectiveness of a loyalty program cannot be judged in the first week.  One would need to research the average number of days between visits and/or the average amount purchased per transaction in order to gauge whether people are being more loyal and compare them over similar timelines."
   ]
  }
 ],
 "metadata": {
  "kernelspec": {
   "display_name": "Python 3",
   "language": "python",
   "name": "python3"
  },
  "language_info": {
   "codemirror_mode": {
    "name": "ipython",
    "version": 3
   },
   "file_extension": ".py",
   "mimetype": "text/x-python",
   "name": "python",
   "nbconvert_exporter": "python",
   "pygments_lexer": "ipython3",
   "version": "3.6.1"
  }
 },
 "nbformat": 4,
 "nbformat_minor": 2
}
